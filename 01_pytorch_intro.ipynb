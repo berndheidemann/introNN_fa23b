{
 "cells": [
  {
   "cell_type": "code",
   "execution_count": null,
   "metadata": {},
   "outputs": [
    {
     "data": {
      "text/plain": [
       "tensor([[ 1., 36., -3.],\n",
       "        [ 9., 38., 17.],\n",
       "        [18., 76., 34.]], grad_fn=<MmBackward0>)"
      ]
     },
     "execution_count": 58,
     "metadata": {},
     "output_type": "execute_result"
    }
   ],
   "source": [
    "import torch\n",
    "\n",
    "X = torch.tensor([\n",
    "    [3., 5.],\n",
    "    [5., 1.],\n",
    "    [10., 2.]\n",
    "])\n",
    "\n",
    "y= torch.tensor([\n",
    "    [75.],\n",
    "    [82.],\n",
    "    [93.]\n",
    "])\n",
    "\n",
    "w1= torch.tensor([\n",
    "    [2., 7., 4.], \n",
    "    [-1., 3., -3.]], \n",
    "    requires_grad=True)\n",
    "w2= torch.tensor([-2., 2., -4.], requires_grad=True)\n",
    "\n",
    "def relu(X):\n",
    "    return torch.max(torch.tensor(0.), X)\n",
    "\n",
    "z2 = X@w1\n",
    "z2"
   ]
  },
  {
   "cell_type": "code",
   "execution_count": 59,
   "metadata": {},
   "outputs": [
    {
     "data": {
      "text/plain": [
       "tensor([[ 1., 36.,  0.],\n",
       "        [ 9., 38., 17.],\n",
       "        [18., 76., 34.]], grad_fn=<MaximumBackward0>)"
      ]
     },
     "execution_count": 59,
     "metadata": {},
     "output_type": "execute_result"
    }
   ],
   "source": [
    "a2=relu(z2)\n",
    "a2"
   ]
  },
  {
   "cell_type": "code",
   "execution_count": 60,
   "metadata": {},
   "outputs": [
    {
     "data": {
      "text/plain": [
       "tensor([ 70., -10., -20.], grad_fn=<MvBackward0>)"
      ]
     },
     "execution_count": 60,
     "metadata": {},
     "output_type": "execute_result"
    }
   ],
   "source": [
    "y_hat = a2@w2\n",
    "y_hat"
   ]
  },
  {
   "cell_type": "code",
   "execution_count": 61,
   "metadata": {},
   "outputs": [
    {
     "data": {
      "text/plain": [
       "tensor(6577.1113, grad_fn=<MeanBackward0>)"
      ]
     },
     "execution_count": 61,
     "metadata": {},
     "output_type": "execute_result"
    }
   ],
   "source": [
    "loss = ((y_hat - y)**2).mean()\n",
    "loss"
   ]
  },
  {
   "cell_type": "code",
   "execution_count": 62,
   "metadata": {},
   "outputs": [],
   "source": [
    "loss.backward() # Berechne die Ableitung der Loss-Funktion nach allen Variablen, die requires_grad=True haben"
   ]
  },
  {
   "cell_type": "code",
   "execution_count": 63,
   "metadata": {},
   "outputs": [
    {
     "data": {
      "text/plain": [
       "tensor([[ 2053.3333, -2053.3333,  4000.0000],\n",
       "        [  488.8889,  -488.8889,   800.0000]])"
      ]
     },
     "execution_count": 63,
     "metadata": {},
     "output_type": "execute_result"
    }
   ],
   "source": [
    "w1.grad"
   ]
  },
  {
   "cell_type": "code",
   "execution_count": 64,
   "metadata": {},
   "outputs": [
    {
     "data": {
      "text/plain": [
       "tensor([-1808.8888, -7920.0000, -3400.0000])"
      ]
     },
     "execution_count": 64,
     "metadata": {},
     "output_type": "execute_result"
    }
   ],
   "source": [
    "w2.grad"
   ]
  },
  {
   "cell_type": "markdown",
   "metadata": {},
   "source": [
    "![image.png](image.png)"
   ]
  },
  {
   "cell_type": "code",
   "execution_count": 65,
   "metadata": {},
   "outputs": [
    {
     "data": {
      "text/plain": [
       "tensor(806.4979, grad_fn=<MeanBackward0>)"
      ]
     },
     "execution_count": 65,
     "metadata": {},
     "output_type": "execute_result"
    }
   ],
   "source": [
    "# w1 muss größer werden, wenn w1.grad negativ ist\n",
    "# w1 muss kleiner werden, wenn w1.grad positiv ist\n",
    "\n",
    "\n",
    "lr=0.0001  # Schrittweite, um die Gewichte zu aktualisieren\n",
    "w1=w1-(w1.grad *lr )    # Gewichte aktualisieren\n",
    "\n",
    "w2=w2-(w2.grad *lr )    # Gewichte aktualisieren\n",
    "\n",
    "z2 = X@w1\n",
    "a2=relu(z2)\n",
    "y_hat = a2@w2\n",
    "loss = ((y_hat - y)**2).mean()\n",
    "loss\n"
   ]
  },
  {
   "cell_type": "code",
   "execution_count": 75,
   "metadata": {},
   "outputs": [
    {
     "data": {
      "image/png": "[encoded data removed]",
      "text/plain": [
       "<Figure size 640x480 with 1 Axes>"
      ]
     },
     "metadata": {},
     "output_type": "display_data"
    },
    {
     "name": "stdout",
     "output_type": "stream",
     "text": [
      "517.8518676757812\n"
     ]
    }
   ],
   "source": [
    "import matplotlib.pyplot as plt\n",
    "\n",
    "\n",
    "epochs=1000\n",
    "losses=[]\n",
    "w1= torch.tensor([[2., 7., 4.], [-1., 3., -3.]], requires_grad=True)\n",
    "w2= torch.tensor([-2., 2., -4.], requires_grad=True)\n",
    "lr=0.0001  # Schrittweite, um die Gewichte zu aktualisieren\n",
    "\n",
    "for i in range(epochs):\n",
    "    z2 = X@w1                   # z2 berechnen\n",
    "    a2=relu(z2)                 # a2 berechnen\n",
    "    y_hat = a2@w2               # y_hat berechnen\n",
    "    loss = ((y_hat - y)**2).mean() #MSE\n",
    "    loss.backward()             # Ableitung durchführen\n",
    "    losses.append(loss.item())\n",
    "    with torch.no_grad():\n",
    "        w1=w1.sub_(w1.grad *lr )    # Gewichte w1 aktualisieren\n",
    "        w2=w2.sub_(w2.grad *lr )    # Gewichte w2 aktualisieren\n",
    "        w1.grad.zero_()         # Gradienten zurücksetzen\n",
    "        w2.grad.zero_()         # Gradienten zurücksetzen\n",
    "        \n",
    "\n",
    "plt.plot(losses)\n",
    "plt.show()\n",
    "print(losses[-1])\n"
   ]
  },
  {
   "cell_type": "code",
   "execution_count": 76,
   "metadata": {},
   "outputs": [
    {
     "data": {
      "text/plain": [
       "tensor([ 83.3334,  50.0000, 100.0000], grad_fn=<MvBackward0>)"
      ]
     },
     "execution_count": 76,
     "metadata": {},
     "output_type": "execute_result"
    }
   ],
   "source": [
    "z2 = X@w1\n",
    "a2=relu(z2)\n",
    "y_hat = a2@w2\n",
    "y_hat"
   ]
  },
  {
   "cell_type": "code",
   "execution_count": 77,
   "metadata": {},
   "outputs": [
    {
     "data": {
      "text/plain": [
       "tensor([[75.],\n",
       "        [82.],\n",
       "        [93.]])"
      ]
     },
     "execution_count": 77,
     "metadata": {},
     "output_type": "execute_result"
    }
   ],
   "source": [
    "y"
   ]
  },
  {
   "cell_type": "code",
   "execution_count": null,
   "metadata": {},
   "outputs": [],
   "source": []
  }
 ],
 "metadata": {
  "kernelspec": {
   "display_name": "torch_ds",
   "language": "python",
   "name": "python3"
  },
  "language_info": {
   "codemirror_mode": {
    "name": "ipython",
    "version": 3
   },
   "file_extension": ".py",
   "mimetype": "text/x-python",
   "name": "python",
   "nbconvert_exporter": "python",
   "pygments_lexer": "ipython3",
   "version": "3.10.8"
  }
 },
 "nbformat": 4,
 "nbformat_minor": 2
}
