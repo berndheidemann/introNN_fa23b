{
 "cells": [
  {
   "cell_type": "code",
   "execution_count": 4,
   "metadata": {},
   "outputs": [],
   "source": [
    "import torch\n",
    "\n",
    "X = torch.tensor([\n",
    "    [3., 5.],\n",
    "    [5., 1.],\n",
    "    [10., 2.]\n",
    "])\n",
    "\n",
    "y= torch.tensor([\n",
    "    [75.],\n",
    "    [82.],\n",
    "    [93.]\n",
    "])\n",
    "\n",
    "X=X/torch.max(X)\n",
    "\n",
    "\n",
    "y=y/torch.max(y)\n",
    "\n"
   ]
  },
  {
   "cell_type": "code",
   "execution_count": 14,
   "metadata": {},
   "outputs": [],
   "source": [
    "w1= torch.normal(mean=0., std=1., size=(2, 3), requires_grad=True)\n",
    "w2= torch.normal(mean=0., std=1., size=(3, 1), requires_grad=True)\n",
    "\n",
    "\n",
    "def relu(X):\n",
    "    return torch.max(torch.tensor(0.), X)\n",
    "\n"
   ]
  },
  {
   "cell_type": "code",
   "execution_count": 15,
   "metadata": {},
   "outputs": [],
   "source": [
    "def mse_loss(y, y_pred):\n",
    "    return torch.mean((y - y_pred)**2)\n",
    "\n",
    "def forward(X):\n",
    "    z2= X@w1\n",
    "    a2= relu(z2)\n",
    "    y_pred= a2@w2\n",
    "    return y_pred"
   ]
  },
  {
   "cell_type": "code",
   "execution_count": 25,
   "metadata": {},
   "outputs": [
    {
     "data": {
      "image/png": "[encoded data removed]",
      "text/plain": [
       "<Figure size 640x480 with 1 Axes>"
      ]
     },
     "metadata": {},
     "output_type": "display_data"
    },
    {
     "name": "stdout",
     "output_type": "stream",
     "text": [
      "0.03885868191719055\n"
     ]
    }
   ],
   "source": [
    "import matplotlib.pyplot as plt\n",
    "\n",
    "\n",
    "epochs=1000\n",
    "losses=[]\n",
    "\n",
    "lr=0.01  # Schrittweite, um die Gewichte zu aktualisieren\n",
    "\n",
    "for i in range(epochs):\n",
    "    y_hat= forward(X)           # Vorhersage berechnen\n",
    "    loss= mse_loss(y, y_hat)    # Fehler\n",
    "    loss.backward()             # Ableitung durchführen\n",
    "    losses.append(loss.item())\n",
    "    with torch.no_grad():\n",
    "        w1=w1.sub_(w1.grad *lr )    # Gewichte w1 aktualisieren\n",
    "        w2=w2.sub_(w2.grad *lr )    # Gewichte w2 aktualisieren\n",
    "        w1.grad.zero_()         # Gradienten zurücksetzen\n",
    "        w2.grad.zero_()         # Gradienten zurücksetzen\n",
    "        \n",
    "\n",
    "plt.plot(losses)\n",
    "plt.show()\n",
    "print(losses[-1])\n"
   ]
  },
  {
   "cell_type": "code",
   "execution_count": 26,
   "metadata": {},
   "outputs": [
    {
     "data": {
      "text/plain": [
       "tensor([[0.8087],\n",
       "        [0.5756],\n",
       "        [1.1513]], grad_fn=<MmBackward0>)"
      ]
     },
     "execution_count": 26,
     "metadata": {},
     "output_type": "execute_result"
    }
   ],
   "source": [
    "forward(X)"
   ]
  },
  {
   "cell_type": "code",
   "execution_count": 27,
   "metadata": {},
   "outputs": [
    {
     "data": {
      "text/plain": [
       "tensor([[0.8065],\n",
       "        [0.8817],\n",
       "        [1.0000]])"
      ]
     },
     "execution_count": 27,
     "metadata": {},
     "output_type": "execute_result"
    }
   ],
   "source": [
    "y"
   ]
  },
  {
   "cell_type": "code",
   "execution_count": null,
   "metadata": {},
   "outputs": [],
   "source": []
  }
 ],
 "metadata": {
  "kernelspec": {
   "display_name": "torch_ds",
   "language": "python",
   "name": "python3"
  },
  "language_info": {
   "codemirror_mode": {
    "name": "ipython",
    "version": 3
   },
   "file_extension": ".py",
   "mimetype": "text/x-python",
   "name": "python",
   "nbconvert_exporter": "python",
   "pygments_lexer": "ipython3",
   "version": "3.10.8"
  }
 },
 "nbformat": 4,
 "nbformat_minor": 2
}
