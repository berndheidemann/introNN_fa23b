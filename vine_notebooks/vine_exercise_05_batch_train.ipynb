{
 "cells": [
  {
   "cell_type": "code",
   "execution_count": 1,
   "metadata": {},
   "outputs": [
    {
     "data": {
      "text/plain": [
       "dict_keys(['data', 'target', 'frame', 'target_names', 'DESCR', 'feature_names'])"
      ]
     },
     "execution_count": 1,
     "metadata": {},
     "output_type": "execute_result"
    }
   ],
   "source": [
    "\n",
    "### f(x)=a*x+b\n",
    "\n",
    "\n",
    "# import vine dataset\n",
    "import torch\n",
    "\n",
    "import pandas as pd\n",
    "import numpy as np\n",
    "from sklearn.datasets import load_wine\n",
    "\n",
    "\n",
    "wine = load_wine()\n",
    "wine.keys()"
   ]
  },
  {
   "cell_type": "code",
   "execution_count": 2,
   "metadata": {},
   "outputs": [
    {
     "data": {
      "text/html": [
       "<div>\n",
       "<style scoped>\n",
       "    .dataframe tbody tr th:only-of-type {\n",
       "        vertical-align: middle;\n",
       "    }\n",
       "\n",
       "    .dataframe tbody tr th {\n",
       "        vertical-align: top;\n",
       "    }\n",
       "\n",
       "    .dataframe thead th {\n",
       "        text-align: right;\n",
       "    }\n",
       "</style>\n",
       "<table border=\"1\" class=\"dataframe\">\n",
       "  <thead>\n",
       "    <tr style=\"text-align: right;\">\n",
       "      <th></th>\n",
       "      <th>alcohol</th>\n",
       "      <th>malic_acid</th>\n",
       "      <th>ash</th>\n",
       "      <th>alcalinity_of_ash</th>\n",
       "      <th>magnesium</th>\n",
       "      <th>total_phenols</th>\n",
       "      <th>flavanoids</th>\n",
       "      <th>nonflavanoid_phenols</th>\n",
       "      <th>proanthocyanins</th>\n",
       "      <th>color_intensity</th>\n",
       "      <th>hue</th>\n",
       "      <th>od280/od315_of_diluted_wines</th>\n",
       "      <th>proline</th>\n",
       "    </tr>\n",
       "  </thead>\n",
       "  <tbody>\n",
       "    <tr>\n",
       "      <th>0</th>\n",
       "      <td>14.23</td>\n",
       "      <td>1.71</td>\n",
       "      <td>2.43</td>\n",
       "      <td>15.6</td>\n",
       "      <td>127.0</td>\n",
       "      <td>2.80</td>\n",
       "      <td>3.06</td>\n",
       "      <td>0.28</td>\n",
       "      <td>2.29</td>\n",
       "      <td>5.64</td>\n",
       "      <td>1.04</td>\n",
       "      <td>3.92</td>\n",
       "      <td>1065.0</td>\n",
       "    </tr>\n",
       "    <tr>\n",
       "      <th>1</th>\n",
       "      <td>13.20</td>\n",
       "      <td>1.78</td>\n",
       "      <td>2.14</td>\n",
       "      <td>11.2</td>\n",
       "      <td>100.0</td>\n",
       "      <td>2.65</td>\n",
       "      <td>2.76</td>\n",
       "      <td>0.26</td>\n",
       "      <td>1.28</td>\n",
       "      <td>4.38</td>\n",
       "      <td>1.05</td>\n",
       "      <td>3.40</td>\n",
       "      <td>1050.0</td>\n",
       "    </tr>\n",
       "    <tr>\n",
       "      <th>2</th>\n",
       "      <td>13.16</td>\n",
       "      <td>2.36</td>\n",
       "      <td>2.67</td>\n",
       "      <td>18.6</td>\n",
       "      <td>101.0</td>\n",
       "      <td>2.80</td>\n",
       "      <td>3.24</td>\n",
       "      <td>0.30</td>\n",
       "      <td>2.81</td>\n",
       "      <td>5.68</td>\n",
       "      <td>1.03</td>\n",
       "      <td>3.17</td>\n",
       "      <td>1185.0</td>\n",
       "    </tr>\n",
       "    <tr>\n",
       "      <th>3</th>\n",
       "      <td>14.37</td>\n",
       "      <td>1.95</td>\n",
       "      <td>2.50</td>\n",
       "      <td>16.8</td>\n",
       "      <td>113.0</td>\n",
       "      <td>3.85</td>\n",
       "      <td>3.49</td>\n",
       "      <td>0.24</td>\n",
       "      <td>2.18</td>\n",
       "      <td>7.80</td>\n",
       "      <td>0.86</td>\n",
       "      <td>3.45</td>\n",
       "      <td>1480.0</td>\n",
       "    </tr>\n",
       "    <tr>\n",
       "      <th>4</th>\n",
       "      <td>13.24</td>\n",
       "      <td>2.59</td>\n",
       "      <td>2.87</td>\n",
       "      <td>21.0</td>\n",
       "      <td>118.0</td>\n",
       "      <td>2.80</td>\n",
       "      <td>2.69</td>\n",
       "      <td>0.39</td>\n",
       "      <td>1.82</td>\n",
       "      <td>4.32</td>\n",
       "      <td>1.04</td>\n",
       "      <td>2.93</td>\n",
       "      <td>735.0</td>\n",
       "    </tr>\n",
       "  </tbody>\n",
       "</table>\n",
       "</div>"
      ],
      "text/plain": [
       "   alcohol  malic_acid   ash  alcalinity_of_ash  magnesium  total_phenols  \\\n",
       "0    14.23        1.71  2.43               15.6      127.0           2.80   \n",
       "1    13.20        1.78  2.14               11.2      100.0           2.65   \n",
       "2    13.16        2.36  2.67               18.6      101.0           2.80   \n",
       "3    14.37        1.95  2.50               16.8      113.0           3.85   \n",
       "4    13.24        2.59  2.87               21.0      118.0           2.80   \n",
       "\n",
       "   flavanoids  nonflavanoid_phenols  proanthocyanins  color_intensity   hue  \\\n",
       "0        3.06                  0.28             2.29             5.64  1.04   \n",
       "1        2.76                  0.26             1.28             4.38  1.05   \n",
       "2        3.24                  0.30             2.81             5.68  1.03   \n",
       "3        3.49                  0.24             2.18             7.80  0.86   \n",
       "4        2.69                  0.39             1.82             4.32  1.04   \n",
       "\n",
       "   od280/od315_of_diluted_wines  proline  \n",
       "0                          3.92   1065.0  \n",
       "1                          3.40   1050.0  \n",
       "2                          3.17   1185.0  \n",
       "3                          3.45   1480.0  \n",
       "4                          2.93    735.0  "
      ]
     },
     "execution_count": 2,
     "metadata": {},
     "output_type": "execute_result"
    }
   ],
   "source": [
    "df=pd.DataFrame(data=wine.data,columns=wine.feature_names)\n",
    "df.head()"
   ]
  },
  {
   "cell_type": "code",
   "execution_count": 3,
   "metadata": {},
   "outputs": [],
   "source": [
    "y=df['alcohol']\n",
    "X=df.drop(['alcohol'],axis=1)\n",
    "\n",
    "\n",
    "#scale the data\n",
    "from sklearn.preprocessing import StandardScaler\n",
    "scaler = StandardScaler()\n",
    "X_scaled = scaler.fit_transform(X)\n",
    "\n",
    "#split the data\n",
    "from sklearn.model_selection import train_test_split\n",
    "X_train, X_test, y_train, y_test = train_test_split(X_scaled, y, test_size=0.2, random_state=42)"
   ]
  },
  {
   "cell_type": "code",
   "execution_count": 4,
   "metadata": {},
   "outputs": [
    {
     "data": {
      "text/plain": [
       "(142, 12)"
      ]
     },
     "execution_count": 4,
     "metadata": {},
     "output_type": "execute_result"
    }
   ],
   "source": [
    "X_train.shape"
   ]
  },
  {
   "cell_type": "code",
   "execution_count": 5,
   "metadata": {},
   "outputs": [],
   "source": [
    "def relu(x):\n",
    "    return torch.maximum(torch.tensor(0.),x)\n",
    "\n",
    "def forward(x):\n",
    "    z2=x@w1+b1\n",
    "    a2=relu(z2)\n",
    "    y_pred=a2@w2+b2\n",
    "    return y_pred\n",
    "\n",
    "def mse_loss(y_pred,y):\n",
    "    return torch.mean((y_pred-y)**2)"
   ]
  },
  {
   "cell_type": "code",
   "execution_count": 6,
   "metadata": {},
   "outputs": [],
   "source": [
    "X_train=torch.tensor(X_train,dtype=torch.float32)\n",
    "y_train=torch.tensor(y_train.values,dtype=torch.float32)\n",
    "X_test=torch.tensor(X_test,dtype=torch.float32)\n",
    "y_test=torch.tensor(y_test.values,dtype=torch.float32)\n"
   ]
  },
  {
   "cell_type": "code",
   "execution_count": 7,
   "metadata": {},
   "outputs": [],
   "source": [
    "def get_batch(X,y,batch_size):\n",
    "    for i in range(0,len(X),batch_size):   # schleife von 0 bis len(X) in schritten von batch_size\n",
    "        yield X[i:i+batch_size],y[i:i+batch_size]  # gibt die daten von i bis i+batch_size zurück\n",
    "\n",
    "        # yield --> gibt die daten zurück und merkt sich die position im code"
   ]
  },
  {
   "cell_type": "code",
   "execution_count": 10,
   "metadata": {},
   "outputs": [
    {
     "name": "stderr",
     "output_type": "stream",
     "text": [
      "100%|██████████| 3000/3000 [00:04<00:00, 624.33it/s, test_loss=3.74, train_loss=0.146]\n"
     ]
    },
    {
     "name": "stdout",
     "output_type": "stream",
     "text": [
      "train_losses 0.14565291203243633\n",
      "test_losses 3.740137815475464\n"
     ]
    },
    {
     "data": {
      "image/png": "[encoded data removed]",
      "text/plain": [
       "<Figure size 640x480 with 1 Axes>"
      ]
     },
     "metadata": {},
     "output_type": "display_data"
    }
   ],
   "source": [
    "hidden_size = 20\n",
    "from tqdm import tqdm\n",
    "\n",
    "\n",
    "# set torch seed to 42\n",
    "torch.manual_seed(42)\n",
    "\n",
    "# welches shape braucht w1. Wir haben 12 input features und 20 hidden units, also 12x20\n",
    "w1=torch.normal(std=1.,mean=0,size=(12,hidden_size),requires_grad=True)\n",
    "# welches shape braucht w2. Wir haben 20 hidden units und 1 output, also 20x1\n",
    "w2=torch.normal(std=1.,mean=0,size=(hidden_size,1),requires_grad=True)\n",
    "\n",
    "b1=torch.zeros(hidden_size,requires_grad=True)\n",
    "b2=torch.zeros(1,requires_grad=True)\n",
    "\n",
    "epochs=3000\n",
    "lr=0.0001\n",
    "wd=0.01\n",
    "\n",
    "import matplotlib.pyplot as plt\n",
    "\n",
    "train_losses=[]\n",
    "test_losses=[]\n",
    "bar=tqdm(range(epochs))\n",
    "for epoch in bar:\n",
    "    epoch_loss=0\n",
    "    for xb, yb in get_batch(X_train,y_train,batch_size=32):\n",
    "        y_pred=forward(xb)\n",
    "        loss=mse_loss(y_pred, yb)+wd*((w1**2).sum()+wd*(w2**2).sum())\n",
    "        loss.backward()\n",
    "        epoch_loss+=loss.item()\n",
    "        \n",
    "        with torch.no_grad():\n",
    "            w1.sub_(lr*w1.grad)\n",
    "            w2.sub_(lr*w2.grad)\n",
    "            b1.sub_(lr*b1.grad)\n",
    "            b2.sub_(lr*b2.grad)\n",
    "            w1.grad.zero_()\n",
    "            w2.grad.zero_()\n",
    "            b1.grad.zero_()\n",
    "            b2.grad.zero_()\n",
    "    test_pred=forward(X_test)\n",
    "    test_loss=mse_loss(test_pred,y_test)\n",
    "    test_losses.append(test_loss.item())\n",
    "    train_losses.append(epoch_loss/len(X_train))\n",
    "    bar.set_postfix(train_loss=train_losses[-1],test_loss=test_losses[-1])\n",
    "\n",
    "\n",
    "print(\"train_losses\",train_losses[-1])\n",
    "print(\"test_losses\",test_losses[-1])\n",
    "plt.plot(train_losses[5:], label='train')\n",
    "plt.plot(test_losses[5:], label='test')\n",
    "plt.legend()\n",
    "plt.show()"
   ]
  },
  {
   "cell_type": "code",
   "execution_count": 9,
   "metadata": {},
   "outputs": [
    {
     "name": "stdout",
     "output_type": "stream",
     "text": [
      "10.336493492126465 13.640000343322754\n",
      "11.52199935913086 14.210000038146973\n",
      "11.474400520324707 12.930000305175781\n",
      "13.596338272094727 13.729999542236328\n",
      "12.118453025817871 12.369999885559082\n",
      "10.931841850280762 14.300000190734863\n",
      "13.07744312286377 12.0\n",
      "10.126692771911621 13.399999618530273\n",
      "17.07088851928711 11.609999656677246\n",
      "10.731019973754883 13.359999656677246\n",
      "11.868945121765137 13.5\n",
      "12.451470375061035 13.5\n",
      "10.498571395874023 13.40999984741211\n",
      "12.514845848083496 12.770000457763672\n",
      "11.47852611541748 13.630000114440918\n"
     ]
    }
   ],
   "source": [
    "y_test_pred=forward(X_test)\n",
    "\n",
    "for i in range(15):\n",
    "    print(y_test_pred[i].item(),y_test[i].item())"
   ]
  },
  {
   "cell_type": "code",
   "execution_count": null,
   "metadata": {},
   "outputs": [],
   "source": []
  }
 ],
 "metadata": {
  "kernelspec": {
   "display_name": "torch_ds",
   "language": "python",
   "name": "python3"
  },
  "language_info": {
   "codemirror_mode": {
    "name": "ipython",
    "version": 3
   },
   "file_extension": ".py",
   "mimetype": "text/x-python",
   "name": "python",
   "nbconvert_exporter": "python",
   "pygments_lexer": "ipython3",
   "version": "3.10.8"
  }
 },
 "nbformat": 4,
 "nbformat_minor": 2
}
