{
 "cells": [
  {
   "cell_type": "code",
   "execution_count": 82,
   "metadata": {},
   "outputs": [
    {
     "data": {
      "text/plain": [
       "dict_keys(['data', 'target', 'frame', 'target_names', 'DESCR', 'feature_names'])"
      ]
     },
     "execution_count": 82,
     "metadata": {},
     "output_type": "execute_result"
    }
   ],
   "source": [
    "\n",
    "### f(x)=a*x+b\n",
    "\n",
    "\n",
    "# import vine dataset\n",
    "import torch\n",
    "\n",
    "import pandas as pd\n",
    "import numpy as np\n",
    "from sklearn.datasets import load_wine\n",
    "\n",
    "\n",
    "wine = load_wine()\n",
    "wine.keys()"
   ]
  },
  {
   "cell_type": "code",
   "execution_count": 83,
   "metadata": {},
   "outputs": [
    {
     "data": {
      "text/html": [
       "<div>\n",
       "<style scoped>\n",
       "    .dataframe tbody tr th:only-of-type {\n",
       "        vertical-align: middle;\n",
       "    }\n",
       "\n",
       "    .dataframe tbody tr th {\n",
       "        vertical-align: top;\n",
       "    }\n",
       "\n",
       "    .dataframe thead th {\n",
       "        text-align: right;\n",
       "    }\n",
       "</style>\n",
       "<table border=\"1\" class=\"dataframe\">\n",
       "  <thead>\n",
       "    <tr style=\"text-align: right;\">\n",
       "      <th></th>\n",
       "      <th>alcohol</th>\n",
       "      <th>malic_acid</th>\n",
       "      <th>ash</th>\n",
       "      <th>alcalinity_of_ash</th>\n",
       "      <th>magnesium</th>\n",
       "      <th>total_phenols</th>\n",
       "      <th>flavanoids</th>\n",
       "      <th>nonflavanoid_phenols</th>\n",
       "      <th>proanthocyanins</th>\n",
       "      <th>color_intensity</th>\n",
       "      <th>hue</th>\n",
       "      <th>od280/od315_of_diluted_wines</th>\n",
       "      <th>proline</th>\n",
       "    </tr>\n",
       "  </thead>\n",
       "  <tbody>\n",
       "    <tr>\n",
       "      <th>0</th>\n",
       "      <td>14.23</td>\n",
       "      <td>1.71</td>\n",
       "      <td>2.43</td>\n",
       "      <td>15.6</td>\n",
       "      <td>127.0</td>\n",
       "      <td>2.80</td>\n",
       "      <td>3.06</td>\n",
       "      <td>0.28</td>\n",
       "      <td>2.29</td>\n",
       "      <td>5.64</td>\n",
       "      <td>1.04</td>\n",
       "      <td>3.92</td>\n",
       "      <td>1065.0</td>\n",
       "    </tr>\n",
       "    <tr>\n",
       "      <th>1</th>\n",
       "      <td>13.20</td>\n",
       "      <td>1.78</td>\n",
       "      <td>2.14</td>\n",
       "      <td>11.2</td>\n",
       "      <td>100.0</td>\n",
       "      <td>2.65</td>\n",
       "      <td>2.76</td>\n",
       "      <td>0.26</td>\n",
       "      <td>1.28</td>\n",
       "      <td>4.38</td>\n",
       "      <td>1.05</td>\n",
       "      <td>3.40</td>\n",
       "      <td>1050.0</td>\n",
       "    </tr>\n",
       "    <tr>\n",
       "      <th>2</th>\n",
       "      <td>13.16</td>\n",
       "      <td>2.36</td>\n",
       "      <td>2.67</td>\n",
       "      <td>18.6</td>\n",
       "      <td>101.0</td>\n",
       "      <td>2.80</td>\n",
       "      <td>3.24</td>\n",
       "      <td>0.30</td>\n",
       "      <td>2.81</td>\n",
       "      <td>5.68</td>\n",
       "      <td>1.03</td>\n",
       "      <td>3.17</td>\n",
       "      <td>1185.0</td>\n",
       "    </tr>\n",
       "    <tr>\n",
       "      <th>3</th>\n",
       "      <td>14.37</td>\n",
       "      <td>1.95</td>\n",
       "      <td>2.50</td>\n",
       "      <td>16.8</td>\n",
       "      <td>113.0</td>\n",
       "      <td>3.85</td>\n",
       "      <td>3.49</td>\n",
       "      <td>0.24</td>\n",
       "      <td>2.18</td>\n",
       "      <td>7.80</td>\n",
       "      <td>0.86</td>\n",
       "      <td>3.45</td>\n",
       "      <td>1480.0</td>\n",
       "    </tr>\n",
       "    <tr>\n",
       "      <th>4</th>\n",
       "      <td>13.24</td>\n",
       "      <td>2.59</td>\n",
       "      <td>2.87</td>\n",
       "      <td>21.0</td>\n",
       "      <td>118.0</td>\n",
       "      <td>2.80</td>\n",
       "      <td>2.69</td>\n",
       "      <td>0.39</td>\n",
       "      <td>1.82</td>\n",
       "      <td>4.32</td>\n",
       "      <td>1.04</td>\n",
       "      <td>2.93</td>\n",
       "      <td>735.0</td>\n",
       "    </tr>\n",
       "  </tbody>\n",
       "</table>\n",
       "</div>"
      ],
      "text/plain": [
       "   alcohol  malic_acid   ash  alcalinity_of_ash  magnesium  total_phenols  \\\n",
       "0    14.23        1.71  2.43               15.6      127.0           2.80   \n",
       "1    13.20        1.78  2.14               11.2      100.0           2.65   \n",
       "2    13.16        2.36  2.67               18.6      101.0           2.80   \n",
       "3    14.37        1.95  2.50               16.8      113.0           3.85   \n",
       "4    13.24        2.59  2.87               21.0      118.0           2.80   \n",
       "\n",
       "   flavanoids  nonflavanoid_phenols  proanthocyanins  color_intensity   hue  \\\n",
       "0        3.06                  0.28             2.29             5.64  1.04   \n",
       "1        2.76                  0.26             1.28             4.38  1.05   \n",
       "2        3.24                  0.30             2.81             5.68  1.03   \n",
       "3        3.49                  0.24             2.18             7.80  0.86   \n",
       "4        2.69                  0.39             1.82             4.32  1.04   \n",
       "\n",
       "   od280/od315_of_diluted_wines  proline  \n",
       "0                          3.92   1065.0  \n",
       "1                          3.40   1050.0  \n",
       "2                          3.17   1185.0  \n",
       "3                          3.45   1480.0  \n",
       "4                          2.93    735.0  "
      ]
     },
     "execution_count": 83,
     "metadata": {},
     "output_type": "execute_result"
    }
   ],
   "source": [
    "df=pd.DataFrame(data=wine.data,columns=wine.feature_names)\n",
    "df.head()"
   ]
  },
  {
   "cell_type": "code",
   "execution_count": 84,
   "metadata": {},
   "outputs": [],
   "source": [
    "y=df['alcohol']\n",
    "X=df.drop(['alcohol'],axis=1)\n",
    "\n",
    "\n",
    "#scale the data\n",
    "from sklearn.preprocessing import StandardScaler\n",
    "scaler = StandardScaler()\n",
    "X_scaled = scaler.fit_transform(X)\n",
    "\n",
    "#split the data\n",
    "from sklearn.model_selection import train_test_split\n",
    "X_train, X_test, y_train, y_test = train_test_split(X_scaled, y, test_size=0.2, random_state=42)"
   ]
  },
  {
   "cell_type": "code",
   "execution_count": 85,
   "metadata": {},
   "outputs": [
    {
     "data": {
      "text/plain": [
       "(142, 12)"
      ]
     },
     "execution_count": 85,
     "metadata": {},
     "output_type": "execute_result"
    }
   ],
   "source": [
    "X_train.shape"
   ]
  },
  {
   "cell_type": "code",
   "execution_count": 86,
   "metadata": {},
   "outputs": [
    {
     "name": "stdout",
     "output_type": "stream",
     "text": [
      "fc.weight torch.Size([200, 12])\n",
      "fc.bias torch.Size([200])\n",
      "fc2.weight torch.Size([100, 200])\n",
      "fc2.bias torch.Size([100])\n",
      "fc3.weight torch.Size([1, 100])\n",
      "fc3.bias torch.Size([1])\n"
     ]
    }
   ],
   "source": [
    "# pytorch model\n",
    "import torch.nn as nn\n",
    "\n",
    "\n",
    "class MySimpleModel(nn.Module):\n",
    "    def __init__(self):  # constructor, is called when the object is created\n",
    "        super(MySimpleModel, self).__init__()\n",
    "        self.fc = nn.Linear(12,200)\n",
    "        self.fc2 = nn.Linear(200,100)\n",
    "        self.fc3 = nn.Linear(100,1)\n",
    "        self.relu=nn.ReLU()\n",
    "\n",
    "    def forward(self, x):\n",
    "        x = self.fc(x)\n",
    "        x = self.relu(x)\n",
    "        x = self.fc2(x)\n",
    "        x = self.relu(x)\n",
    "        x = self.fc3(x)\n",
    "        return x\n",
    "\n",
    "model=MySimpleModel()\n",
    "for param, name in zip(model.parameters(), model.state_dict()):\n",
    "    print(name, param.shape)"
   ]
  },
  {
   "cell_type": "code",
   "execution_count": 87,
   "metadata": {},
   "outputs": [
    {
     "data": {
      "text/plain": [
       "(tensor([-0.5892,  1.2190,  1.6531, -0.1223,  0.8090, -0.7221,  1.3549,  1.9432,\n",
       "          3.4354, -1.6999, -0.9205, -0.2767]),\n",
       " tensor(14.3400))"
      ]
     },
     "execution_count": 87,
     "metadata": {},
     "output_type": "execute_result"
    }
   ],
   "source": [
    "class MySimpleDataset(torch.utils.data.Dataset):\n",
    "    def __init__(self, X, y):   # ds = MySimpleDataset(X, y)\n",
    "        self.X = torch.tensor(X, dtype=torch.float32)\n",
    "        self.y = torch.tensor(y, dtype=torch.float32)\n",
    "\n",
    "    def __len__(self):    # len(ds)\n",
    "        return len(self.X)\n",
    "\n",
    "    def __getitem__(self, idx):  # ds[0]\n",
    "        return self.X[idx], self.y[idx]\n",
    "    \n",
    "\n",
    "train_ds = MySimpleDataset(X_train, y_train.values)\n",
    "test_ds = MySimpleDataset(X_test, y_test.values)\n",
    "\n",
    "train_ds[0]"
   ]
  },
  {
   "cell_type": "code",
   "execution_count": 88,
   "metadata": {},
   "outputs": [],
   "source": [
    "train_dl = torch.utils.data.DataLoader(train_ds, batch_size=32, shuffle=True)\n",
    "test_dl = torch.utils.data.DataLoader(test_ds, batch_size=32, shuffle=False)"
   ]
  },
  {
   "cell_type": "code",
   "execution_count": 89,
   "metadata": {},
   "outputs": [],
   "source": [
    "def get_test_loss(model\n",
    "                  , test_dl\n",
    "                  , loss_fn):\n",
    "    with torch.no_grad():\n",
    "        test_loss = 0\n",
    "        for X_batch, y_batch in test_dl:\n",
    "            y_pred = model(X_batch)\n",
    "            loss = loss_fn(y_pred, y_batch)\n",
    "            test_loss += loss.item()\n",
    "    return test_loss / len(test_dl)"
   ]
  },
  {
   "cell_type": "code",
   "execution_count": 90,
   "metadata": {},
   "outputs": [],
   "source": [
    "\n",
    "\n",
    "def mse_loss(y_pred,y):\n",
    "    return torch.mean((y_pred-y)**2)"
   ]
  },
  {
   "cell_type": "code",
   "execution_count": 91,
   "metadata": {},
   "outputs": [],
   "source": [
    "X_train=torch.tensor(X_train,dtype=torch.float32)\n",
    "y_train=torch.tensor(y_train.values,dtype=torch.float32)\n",
    "X_test=torch.tensor(X_test,dtype=torch.float32)\n",
    "y_test=torch.tensor(y_test.values,dtype=torch.float32)\n"
   ]
  },
  {
   "cell_type": "code",
   "execution_count": 92,
   "metadata": {},
   "outputs": [
    {
     "name": "stderr",
     "output_type": "stream",
     "text": [
      "100%|██████████| 3000/3000 [00:10<00:00, 278.02it/s, test_loss=0.453, train_loss=0.0257]\n"
     ]
    },
    {
     "name": "stdout",
     "output_type": "stream",
     "text": [
      "train_losses 0.025654773896848653\n",
      "test_losses 0.4530850946903229\n"
     ]
    },
    {
     "data": {
      "image/png": "[encoded data removed]",
      "text/plain": [
       "<Figure size 640x480 with 1 Axes>"
      ]
     },
     "metadata": {},
     "output_type": "display_data"
    },
    {
     "data": {
      "image/png": "[encoded data removed]",
      "text/plain": [
       "<Figure size 640x480 with 1 Axes>"
      ]
     },
     "metadata": {},
     "output_type": "display_data"
    },
    {
     "data": {
      "image/png": "[encoded data removed]",
      "text/plain": [
       "<Figure size 640x480 with 1 Axes>"
      ]
     },
     "metadata": {},
     "output_type": "display_data"
    }
   ],
   "source": [
    "hidden_size = 20\n",
    "from tqdm import tqdm\n",
    "\n",
    "\n",
    "# set torch seed to 42\n",
    "torch.manual_seed(42)\n",
    "\n",
    "\n",
    "model=MySimpleModel()\n",
    "optimizer = torch.optim.Adam(model.parameters(), lr=0.001, weight_decay=0.01)\n",
    "\n",
    "epochs=3000\n",
    "lr=0.0001\n",
    "wd=0.01\n",
    "\n",
    "import matplotlib.pyplot as plt\n",
    "\n",
    "train_losses=[]\n",
    "test_losses=[]\n",
    "bar=tqdm(range(epochs))\n",
    "for epoch in bar:\n",
    "    epoch_loss=0\n",
    "    for xb, yb in train_dl:\n",
    "        y_pred=model(xb)\n",
    "        loss=mse_loss(y_pred, yb)\n",
    "        loss.backward()\n",
    "        epoch_loss+=loss.item()\n",
    "        optimizer.step()\n",
    "        optimizer.zero_grad()  \n",
    "    test_loss=get_test_loss(model,test_dl,mse_loss)\n",
    "    test_losses.append(test_loss)\n",
    "    train_losses.append(epoch_loss/len(X_train))\n",
    "    bar.set_postfix(train_loss=train_losses[-1],test_loss=test_losses[-1])\n",
    "\n",
    "\n",
    "print(\"train_losses\",train_losses[-1])\n",
    "print(\"test_losses\",test_losses[-1])\n",
    "plt.plot(train_losses[5:], label='train')\n",
    "plt.plot(test_losses[5:], label='test')\n",
    "plt.legend()\n",
    "plt.show()\n",
    "\n",
    "\n",
    "plt.plot(train_losses[500:], label='train')\n",
    "plt.plot(test_losses[500:], label='test')\n",
    "plt.legend()\n",
    "plt.show()\n",
    "\n",
    "plt.plot(train_losses[1500:], label='train')\n",
    "plt.plot(test_losses[1500:], label='test')\n",
    "plt.legend()\n",
    "plt.show()"
   ]
  },
  {
   "cell_type": "code",
   "execution_count": 93,
   "metadata": {},
   "outputs": [
    {
     "name": "stdout",
     "output_type": "stream",
     "text": [
      "13.198758125305176 13.640000343322754\n",
      "13.10755443572998 14.210000038146973\n",
      "13.164448738098145 12.930000305175781\n",
      "13.217106819152832 13.729999542236328\n",
      "13.132088661193848 12.369999885559082\n",
      "13.1903715133667 14.300000190734863\n",
      "12.994985580444336 12.0\n",
      "13.056414604187012 13.399999618530273\n",
      "13.269211769104004 11.609999656677246\n",
      "13.13725757598877 13.359999656677246\n",
      "13.227803230285645 13.5\n",
      "13.153181076049805 13.5\n",
      "13.058232307434082 13.40999984741211\n",
      "13.03701114654541 12.770000457763672\n",
      "13.220552444458008 13.630000114440918\n"
     ]
    }
   ],
   "source": [
    "y_test_pred=model(X_test)\n",
    "\n",
    "for i in range(15):\n",
    "    print(y_test_pred[i].item(),y_test[i].item())"
   ]
  },
  {
   "cell_type": "code",
   "execution_count": null,
   "metadata": {},
   "outputs": [],
   "source": []
  }
 ],
 "metadata": {
  "kernelspec": {
   "display_name": "torch_ds",
   "language": "python",
   "name": "python3"
  },
  "language_info": {
   "codemirror_mode": {
    "name": "ipython",
    "version": 3
   },
   "file_extension": ".py",
   "mimetype": "text/x-python",
   "name": "python",
   "nbconvert_exporter": "python",
   "pygments_lexer": "ipython3",
   "version": "3.10.8"
  }
 },
 "nbformat": 4,
 "nbformat_minor": 2
}
